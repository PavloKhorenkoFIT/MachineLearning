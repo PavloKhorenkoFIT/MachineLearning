{
  "metadata": {
    "kernelspec": {
      "name": "python",
      "display_name": "Python (Pyodide)",
      "language": "python"
    },
    "language_info": {
      "codemirror_mode": {
        "name": "python",
        "version": 3
      },
      "file_extension": ".py",
      "mimetype": "text/x-python",
      "name": "python",
      "nbconvert_exporter": "python",
      "pygments_lexer": "ipython3",
      "version": "3.8"
    }
  },
  "nbformat_minor": 5,
  "nbformat": 4,
  "cells": [
    {
      "id": "08e90a69-193e-4fdf-8aaa-22bc324bdbee",
      "cell_type": "code",
      "source": "# Хоренко Павло ФІТ 4-8 Варіант 32",
      "metadata": {
        "trusted": true
      },
      "outputs": [],
      "execution_count": null
    },
    {
      "id": "605d0dcb-c948-4740-8acf-e2691258ee03",
      "cell_type": "code",
      "source": "# Завдання 1: Створіть одновимірний масив (вектор) з першими 20-ма натуральними числами та виведіть його значення.\n\n# Створення вектору\nvector = np.arange(1, 21)\n# Виведення значень\nvector",
      "metadata": {
        "trusted": true
      },
      "outputs": [
        {
          "execution_count": 12,
          "output_type": "execute_result",
          "data": {
            "text/plain": "array([ 1,  2,  3,  4,  5,  6,  7,  8,  9, 10, 11, 12, 13, 14, 15, 16, 17,\n       18, 19, 20])"
          },
          "metadata": {}
        }
      ],
      "execution_count": 12
    },
    {
      "id": "0efe3517-23e9-485d-8bb5-3927adc3081d",
      "cell_type": "code",
      "source": "# Завдання 2: Створіть двовимірний масив (матрицю) розміром 3x3, заповніть його випадковими натуральними числами та виведіть його значення.\n\n# Створення двовимірного масиву (матриці) розміром 3x3 з випадковими натуральними числами від 1 до 100\nmatrix = np.random.randint(1, 101, size=(3, 3))\n# Виведення значень матриці\nmatrix",
      "metadata": {
        "trusted": true
      },
      "outputs": [
        {
          "execution_count": 13,
          "output_type": "execute_result",
          "data": {
            "text/plain": "array([[84, 44, 35],\n       [41, 68, 68],\n       [17, 52, 40]])"
          },
          "metadata": {}
        }
      ],
      "execution_count": 13
    },
    {
      "id": "99595445-4f98-4796-8673-72d60b127e77",
      "cell_type": "code",
      "source": "# Завдання 3: Створіть масив розміром 5x5, заповніть його випадковими дійсними числами в діапазоні від -1 до 1 та виведіть його значення.\n\n# Створення масиву розміром 5x5 з випадковими дійсними числами в діапазоні від -1 до 1\nmatrix_5x5 = np.random.uniform(-1, 1, size=(5, 5))\n\n# Виведення значень масиву\nmatrix_5x5\n",
      "metadata": {
        "trusted": true
      },
      "outputs": [
        {
          "execution_count": 14,
          "output_type": "execute_result",
          "data": {
            "text/plain": "array([[-0.0317813 , -0.57935364, -0.61098305,  0.85217719,  0.21545516],\n       [ 0.51385919, -0.74699866, -0.10891518, -0.35177826, -0.78978866],\n       [ 0.830492  ,  0.37377236,  0.05607197,  0.65255727, -0.75331633],\n       [-0.66199748, -0.74673952,  0.28666948, -0.576654  , -0.94572036],\n       [-0.20568004,  0.12623082, -0.52238152,  0.74759304,  0.79382317]])"
          },
          "metadata": {}
        }
      ],
      "execution_count": 14
    },
    {
      "id": "1ceccd2d-bce3-4546-ae7c-22b3a549e5e1",
      "cell_type": "code",
      "source": "# Завдання 4: Створіть масив розміром 5x5, заповніть його випадковими дійсними числами в діапазоні від 0 до 1 та знайдіть середнє значення елементів.\n\n# Створення масиву розміром 5x5 з випадковими дійсними числами в діапазоні від 0 до 1\nmatrix_5x5_random = np.random.uniform(0, 1, size=(5, 5))\n\n# Обчислення середнього значення елементів масиву\nmean_value = np.mean(matrix_5x5_random)\n\n# Виведення середнього значення\nmean_value",
      "metadata": {
        "trusted": true
      },
      "outputs": [
        {
          "execution_count": 16,
          "output_type": "execute_result",
          "data": {
            "text/plain": "0.4274648329548607"
          },
          "metadata": {}
        }
      ],
      "execution_count": 16
    },
    {
      "id": "b45b59a5-3034-47a5-8190-b96b6f23d063",
      "cell_type": "code",
      "source": "# Завдання 5: Створіть два одновимірних масиви розміром 5, заповніть їх випадковими цілими\n# числами в діапазоні від -10 до 10 та виконайте на них поелементні операції додавання,\n# віднімання та множення.\n\n# Створення двох одновимірних масивів розміром 5 з випадковими цілими числами в діапазоні від -10 до 10\narray1 = np.random.randint(-10, 11, size=5)\narray2 = np.random.randint(-10, 11, size=5)\n\n# Виконання поелементних операцій\naddition = array1 + array2\nsubtraction = array1 - array2\nmultiplication = array1 * array2\n\n# Виведення результатів\narray1, array2, addition, subtraction, multiplication\n",
      "metadata": {
        "trusted": true
      },
      "outputs": [
        {
          "execution_count": 18,
          "output_type": "execute_result",
          "data": {
            "text/plain": "(array([10, -9, -2,  8,  9]),\n array([-1,  9,  6,  2, -3]),\n array([ 9,  0,  4, 10,  6]),\n array([ 11, -18,  -8,   6,  12]),\n array([-10, -81, -12,  16, -27]))"
          },
          "metadata": {}
        }
      ],
      "execution_count": 18
    },
    {
      "id": "3084c70a-afbb-4218-8de4-dd9fd7b9286a",
      "cell_type": "code",
      "source": "# Завдання 6: Створіть дві матриці 2x2, заповніть їх довільними дійсними числами від 3 до 10 та знайдіть їх добуток.\n\n# Створення двох матриць 2x2 з довільними дійсними числами в діапазоні від 3 до 10\nmatrix1 = np.random.uniform(3, 10, size=(2, 2))\nmatrix2 = np.random.uniform(3, 10, size=(2, 2))\n\n# Обчислення добутку матриць\nproduct = np.dot(matrix1, matrix2)\n\n# Виведення результатів\nmatrix1, matrix2, product",
      "metadata": {
        "trusted": true
      },
      "outputs": [
        {
          "execution_count": 24,
          "output_type": "execute_result",
          "data": {
            "text/plain": "(array([[3.98814496, 4.32022461],\n        [8.20722349, 9.60528353]]),\n array([[6.65416231, 4.18030677],\n        [4.84408687, 3.00151272]]),\n array([[ 47.46530716,  29.63887851],\n        [101.14102504,  63.13909266]]))"
          },
          "metadata": {}
        }
      ],
      "execution_count": 24
    },
    {
      "id": "e3a16820-3eca-4491-b0d7-c8eb87b8b66d",
      "cell_type": "code",
      "source": "# Завдання 7: Створіть дві матриці розміром 2x3 та 3x2, заповніть їх випадковими цілими числами в діапазоні від 1 до 5 та перемножте їх між собою.\n\n# Створення матриці розміром 2x3 з випадковими цілими числами в діапазоні від 1 до 5\nmatrix1 = np.random.randint(1, 6, size=(2, 3))\n\n# Створення матриці розміром 3x2 з випадковими цілими числами в діапазоні від 1 до 5\nmatrix2 = np.random.randint(1, 6, size=(3, 2))\n\n# Перемноження матриць\nproduct = np.dot(matrix1, matrix2)\n\n# Виведення результатів\nmatrix1, matrix2, product",
      "metadata": {
        "trusted": true
      },
      "outputs": [
        {
          "execution_count": 25,
          "output_type": "execute_result",
          "data": {
            "text/plain": "(array([[5, 2, 3],\n        [4, 3, 4]]),\n array([[1, 3],\n        [3, 2],\n        [4, 3]]),\n array([[23, 28],\n        [29, 30]]))"
          },
          "metadata": {}
        }
      ],
      "execution_count": 25
    },
    {
      "id": "18dc813f-c219-4d54-907c-a431c888e9ee",
      "cell_type": "code",
      "source": "# Завдання 8: Створіть матрицю розміром 3x3, заповніть її випадковими цілими числами в діапазоні від 1 до 12 та знайдіть її обернену матрицю.\n\n# Створення матриці розміром 3x3 з випадковими цілими числами в діапазоні від 1 до 12\nmatrix = np.random.randint(1, 13, size=(3, 3))\n\n# Обчислення оберненої матриці\ninverse_matrix = np.linalg.inv(matrix)\n\n# Виведення результатів\nmatrix, inverse_matrix",
      "metadata": {
        "trusted": true
      },
      "outputs": [
        {
          "execution_count": 27,
          "output_type": "execute_result",
          "data": {
            "text/plain": "(array([[ 1,  8,  9],\n        [12,  1,  5],\n        [ 3,  9,  2]]),\n array([[-0.05180723,  0.07831325,  0.0373494 ],\n        [-0.01084337, -0.03012048,  0.12409639],\n        [ 0.12650602,  0.01807229, -0.11445783]]))"
          },
          "metadata": {}
        }
      ],
      "execution_count": 27
    },
    {
      "id": "4a686c66-b9ed-405c-8b38-c50a9ca12d2f",
      "cell_type": "code",
      "source": "# Завдання 9: Створіть матрицю розміром 4x4, заповніть її випадковими дійсними числами в діапазоні від -8 до 8 та транспонуйте її.\n\n# Створення матриці розміром 4x4 з випадковими дійсними числами в діапазоні від -8 до 8\nmatrix = np.random.uniform(-8, 8, size=(4, 4))\n\n# Транспонування матриці\ntransposed_matrix = np.transpose(matrix)\n\n# Виведення результатів\nmatrix, transposed_matrix",
      "metadata": {
        "trusted": true
      },
      "outputs": [
        {
          "execution_count": 28,
          "output_type": "execute_result",
          "data": {
            "text/plain": "(array([[ 0.83281083, -5.5151059 ,  1.02666123,  2.9923624 ],\n        [-7.2800033 ,  4.96570133, -0.3140827 ,  4.31435202],\n        [ 6.29802786,  3.92334103,  7.76164392,  7.17926098],\n        [-6.32403095,  1.18302822,  4.55652873,  1.84541278]]),\n array([[ 0.83281083, -7.2800033 ,  6.29802786, -6.32403095],\n        [-5.5151059 ,  4.96570133,  3.92334103,  1.18302822],\n        [ 1.02666123, -0.3140827 ,  7.76164392,  4.55652873],\n        [ 2.9923624 ,  4.31435202,  7.17926098,  1.84541278]]))"
          },
          "metadata": {}
        }
      ],
      "execution_count": 28
    },
    {
      "id": "530db31c-d5e7-4b43-a8ac-1cba5fcaff2f",
      "cell_type": "code",
      "source": "# Завдання 10: Створіть матрицю розміром 3x4 та вектор розміром 4 x1, заповніть їх випадковими\n# цілими числами в діапазоні від 1 до 10 та знайдіть середнє значення елементів матриці.\n\n# Створення матриці розміром 3x4 з випадковими цілими числами в діапазоні від 1 до 10\nmatrix = np.random.randint(1, 11, size=(3, 4))\n\n# Створення вектору розміром 4x1 з випадковими цілими числами в діапазоні від 1 до 10\nvector = np.random.randint(1, 11, size=(4, 1))\n\n# Обчислення середнього значення елементів матриці\nmean_value = np.mean(matrix)\n\n# Виведення результатів\nmatrix, vector, mean_value",
      "metadata": {
        "trusted": true
      },
      "outputs": [
        {
          "execution_count": 29,
          "output_type": "execute_result",
          "data": {
            "text/plain": "(array([[ 9,  6,  9,  4],\n        [ 7,  2,  6, 10],\n        [ 2,  5,  3,  8]]),\n array([[9],\n        [2],\n        [5],\n        [9]]),\n 5.916666666666667)"
          },
          "metadata": {}
        }
      ],
      "execution_count": 29
    },
    {
      "id": "0ad98797-0b12-4e93-9a38-f3c2cea3a334",
      "cell_type": "code",
      "source": "# Завдання 11: Створіть матрицю розміром 2x3 та вектор розміром 3x1, заповніть матрицю\n# випадковими цілими числами в діапазоні від 1 до 10, а вектор - випадковими дійсними\n# числами від 0 до 1, і знайдіть добуток матриці на вектор.\n\n# Створення матриці розміром 2x3 з випадковими цілими числами від 1 до 10\nmatrix = np.random.randint(1, 11, size=(2, 3))\n\n# Створення вектора розміром 3x1 з випадковими дійсними числами від 0 до 1\nvector = np.random.random(size=(3, 1))\n\n# Обчислення добутку матриці на вектор\nresult = np.dot(matrix, vector)\n\n# Виведення результатів\nmatrix, vector, result",
      "metadata": {
        "trusted": true
      },
      "outputs": [
        {
          "execution_count": 30,
          "output_type": "execute_result",
          "data": {
            "text/plain": "(array([[10,  5,  3],\n        [ 4, 10,  8]]),\n array([[0.04724823],\n        [0.28813852],\n        [0.85535964]]),\n array([[4.47925383],\n        [9.91325518]]))"
          },
          "metadata": {}
        }
      ],
      "execution_count": 30
    },
    {
      "id": "5d949b0f-afb3-4369-9006-9ed026589f4d",
      "cell_type": "code",
      "source": "# Завдання 12: Створіть дві матриці розміром 3x3, заповніть їх випадковими цілими числами в діапазоні від 1 до 10 та знайдіть їхню різницю.\n\n# Створення двох матриць розміром 3x3 з випадковими цілими числами від 1 до 10\nmatrix1 = np.random.randint(1, 11, size=(3, 3))\nmatrix2 = np.random.randint(1, 11, size=(3, 3))\n\n# Обчислення різниці між матрицями\ndifference = matrix1 - matrix2\n\n# Виведення результатів\nmatrix1, matrix2, difference",
      "metadata": {
        "trusted": true
      },
      "outputs": [
        {
          "execution_count": 31,
          "output_type": "execute_result",
          "data": {
            "text/plain": "(array([[5, 9, 3],\n        [8, 9, 7],\n        [1, 2, 6]]),\n array([[ 7,  4,  4],\n        [ 2,  7,  1],\n        [ 8, 10,  6]]),\n array([[-2,  5, -1],\n        [ 6,  2,  6],\n        [-7, -8,  0]]))"
          },
          "metadata": {}
        }
      ],
      "execution_count": 31
    },
    {
      "id": "4e4d51e2-c260-42ce-b44c-6251804f1a35",
      "cell_type": "code",
      "source": "# Завдання 13: Створіть дві матриці розміром 3x3, заповніть їх випадковими цілими числами в діапазоні від -5 до 5 та знайдіть їх добуток.\n\n# Створення двох матриць розміром 3x3 з випадковими цілими числами від -5 до 5\nmatrix1 = np.random.randint(-5, 6, size=(3, 3))\nmatrix2 = np.random.randint(-5, 6, size=(3, 3))\n\n# Обчислення добутку матриць\nproduct = np.dot(matrix1, matrix2)\n\n# Виведення результатів\nmatrix1, matrix2, product",
      "metadata": {
        "trusted": true
      },
      "outputs": [
        {
          "execution_count": 32,
          "output_type": "execute_result",
          "data": {
            "text/plain": "(array([[ 2,  1, -3],\n        [-3,  3, -1],\n        [-4,  4,  0]]),\n array([[ 0,  5, -1],\n        [ 1, -1,  1],\n        [-1,  0,  3]]),\n array([[  4,   9, -10],\n        [  4, -18,   3],\n        [  4, -24,   8]]))"
          },
          "metadata": {}
        }
      ],
      "execution_count": 32
    },
    {
      "id": "016e51fc-0f56-416e-b85b-2ba5f63538eb",
      "cell_type": "code",
      "source": "# Завдання 14: Створіть матрицю розміром 3x3, заповніть її випадковими цілими числами в діапазоні\n# від -5 до 5 та знайдіть суму елементів матриці.\n\n# Створення матриці розміром 3x3 з випадковими цілими числами від -5 до 5\nmatrix = np.random.randint(-5, 6, size=(3, 3))\n\n# Обчислення суми елементів матриці\nsum_elements = np.sum(matrix)\n\n# Виведення результатів\nmatrix, sum_elements",
      "metadata": {
        "trusted": true
      },
      "outputs": [
        {
          "execution_count": 33,
          "output_type": "execute_result",
          "data": {
            "text/plain": "(array([[ 1,  2,  4],\n        [ 5, -5, -4],\n        [-2, -4, -5]]),\n -8)"
          },
          "metadata": {}
        }
      ],
      "execution_count": 33
    },
    {
      "id": "52adff2f-f83e-407f-8c35-54a4fd8c829b",
      "cell_type": "code",
      "source": "# Завдання 15: Створіть матрицю розміром 4x4, заповніть її випадковими дійсними числами в\n# діапазоні від 0 до 1 та знайдіть вектор-стовпчик, що містить добуток елементів кожного рядка матриці.\n\n# Створення матриці розміром 4x4 з випадковими дійсними числами від 0 до 1\nmatrix = np.random.random(size=(4, 4))\n\n# Обчислення добутку елементів кожного рядка матриці\nproduct_per_row = np.prod(matrix, axis=1)\n\n# Перетворення результату в стовпчиковий вектор\nproduct_vector = product_per_row.reshape(-1, 1)\n\n# Виведення результату\nmatrix, product_per_row, product_vector",
      "metadata": {
        "trusted": true
      },
      "outputs": [
        {
          "execution_count": 34,
          "output_type": "execute_result",
          "data": {
            "text/plain": "(array([[0.71598516, 0.83677324, 0.74784202, 0.52616741],\n        [0.37617084, 0.90967633, 0.80708274, 0.33703106],\n        [0.53063833, 0.0135948 , 0.175823  , 0.97255444],\n        [0.19905682, 0.79091975, 0.21913423, 0.06205218]]),\n array([0.23574669, 0.09308078, 0.00123356, 0.0021408 ]),\n array([[0.23574669],\n        [0.09308078],\n        [0.00123356],\n        [0.0021408 ]]))"
          },
          "metadata": {}
        }
      ],
      "execution_count": 34
    },
    {
      "id": "5b2d8c63-ede3-494a-8f74-c59d5e87abbd",
      "cell_type": "code",
      "source": "# Висновок:\n\n# В даній роботі були виконані численні завдання з роботи з масивами різного розміру та типів у мові програмування Python.\n# Розглянуті завдання охоплюють створення та маніпулювання як одновимірними, так і двовимірними масивами.\n# Аналіз цих завдань дозволяє підкреслити важливі аспекти програмування і обробки даних.",
      "metadata": {
        "trusted": true
      },
      "outputs": [],
      "execution_count": 36
    }
  ]
}